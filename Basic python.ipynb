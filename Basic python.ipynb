{
 "cells": [
  {
   "cell_type": "code",
   "execution_count": 3,
   "id": "f3e2c354",
   "metadata": {},
   "outputs": [
    {
     "name": "stdout",
     "output_type": "stream",
     "text": [
      "Enter your first name Yashika\n",
      "Enter your last name Kadiyan\n",
      "Kadiyan Yashika\n"
     ]
    }
   ],
   "source": [
    "# Write a Python program which accepts the user's first and last name and prints them in reverse order with a space between them.\n",
    "Firstname = input(\"Enter your first name \")\n",
    "Lastname = input(\"Enter your last name \")\n",
    "print(Lastname + \" \" + Firstname)"
   ]
  },
  {
   "cell_type": "code",
   "execution_count": 6,
   "id": "89b9727b",
   "metadata": {},
   "outputs": [
    {
     "name": "stdout",
     "output_type": "stream",
     "text": [
      "2,1,3,5,6,7,9\n",
      "['2', '1', '3', '5', '6', '7', '9']\n",
      "('2', '1', '3', '5', '6', '7', '9')\n"
     ]
    }
   ],
   "source": [
    "# Write a Python program which accepts a sequence of comma-separated numbers from the user and generates a list and a tuple with those numbers.\n",
    "num = input().split(',')\n",
    "lis = list(num)\n",
    "tup = tuple(num)\n",
    "print(lis)\n",
    "print(tup)"
   ]
  },
  {
   "cell_type": "code",
   "execution_count": 5,
   "id": "22a13350",
   "metadata": {},
   "outputs": [
    {
     "name": "stdout",
     "output_type": "stream",
     "text": [
      "Red\n",
      "Black\n"
     ]
    }
   ],
   "source": [
    "# Write a Python program to display the first and last colours from the following list. color_list = [\"Red\",\"Green\",\"White\" ,\"Black\"]\n",
    "color_list = [\"Red\",\"Green\",\"White\" ,\"Black\"]\n",
    "print(color_list[0])\n",
    "print(color_list[3])"
   ]
  },
  {
   "cell_type": "code",
   "execution_count": 8,
   "id": "2350f952",
   "metadata": {},
   "outputs": [
    {
     "name": "stdout",
     "output_type": "stream",
     "text": [
      "Enter the number to check 14\n",
      "False\n"
     ]
    }
   ],
   "source": [
    "# Write a Python program to check whether a specified value is contained in a group of values\n",
    "l = [2,4,5,6,7,'hi']\n",
    "a = int(input(\"Enter the number to check \"))\n",
    "if a in l:\n",
    "  print(True)\n",
    "else:\n",
    "  print(False)"
   ]
  },
  {
   "cell_type": "code",
   "execution_count": 1,
   "id": "ca57cdce",
   "metadata": {},
   "outputs": [
    {
     "data": {
      "image/png": "[encoded data removed]",
      "text/plain": [
       "<Figure size 640x480 with 1 Axes>"
      ]
     },
     "metadata": {},
     "output_type": "display_data"
    }
   ],
   "source": [
    "# Write a Python program to create a histogram from a given list of integers.\n",
    "import matplotlib.pyplot as plt\n",
    "x = [1,2,3,4,5,6,7]\n",
    "plt.hist(x)\n",
    "plt.show()"
   ]
  },
  {
   "cell_type": "code",
   "execution_count": 11,
   "id": "574616e0",
   "metadata": {},
   "outputs": [
    {
     "name": "stdout",
     "output_type": "stream",
     "text": [
      "109874\n"
     ]
    }
   ],
   "source": [
    "# Write a Python program to concatenate all elements in a list into a string and return it.\n",
    "lst = [1,0,9,8,7,4]\n",
    "a = \"\"\n",
    "for i in lst:\n",
    "   a+=str(i)\n",
    "print(a)"
   ]
  },
  {
   "cell_type": "code",
   "execution_count": 12,
   "id": "fe137e5b",
   "metadata": {},
   "outputs": [
    {
     "name": "stdout",
     "output_type": "stream",
     "text": [
      "{'Black', 'White'}\n"
     ]
    }
   ],
   "source": [
    "# Write a Python program to print out a set containing all the colors from color_list_1 which are not present in color_list_2.\n",
    "color_list_1 = ['White','Black','Red']\n",
    "color_list_2 = ['Red','Green']\n",
    "lst = set()\n",
    "for i in color_list_1:\n",
    "     if i not in color_list_2:\n",
    "        lst.add(i)\n",
    "print(lst)"
   ]
  },
  {
   "cell_type": "code",
   "execution_count": 13,
   "id": "464816b8",
   "metadata": {},
   "outputs": [
    {
     "name": "stdout",
     "output_type": "stream",
     "text": [
      "4\n"
     ]
    }
   ],
   "source": [
    "# Write a Python program to find out the number of CPUs using\n",
    "import os\n",
    "print(os.cpu_count())"
   ]
  },
  {
   "cell_type": "code",
   "execution_count": 14,
   "id": "8d0cdca9",
   "metadata": {},
   "outputs": [
    {
     "name": "stdout",
     "output_type": "stream",
     "text": [
      "[1, 1, 5]\n"
     ]
    }
   ],
   "source": [
    "# Write a Python program to sort three integers without using conditional statements and loops\n",
    "a = [1,5,1]\n",
    "a.sort()\n",
    "print(a)"
   ]
  },
  {
   "cell_type": "code",
   "execution_count": 15,
   "id": "fa6baf8b",
   "metadata": {},
   "outputs": [
    {
     "name": "stdout",
     "output_type": "stream",
     "text": [
      "Enter the character r\n",
      "0\n"
     ]
    }
   ],
   "source": [
    "# Write a Python program to count the number occurrence of a specific character in a string.\n",
    "str = \"abcacsksdnkadsdasd\"\n",
    "a = 0\n",
    "c = input(\"Enter the character \")\n",
    "for i in str:\n",
    "  if i==c:\n",
    "    a+=1\n",
    "print(a)"
   ]
  },
  {
   "cell_type": "code",
   "execution_count": 16,
   "id": "060425f2",
   "metadata": {},
   "outputs": [
    {
     "name": "stdout",
     "output_type": "stream",
     "text": [
      "DESKTOP-T03KI2E\n"
     ]
    }
   ],
   "source": [
    "# Write a Python program to get the name of the host on which the routine is running\n",
    "import socket\n",
    "print(socket.gethostname())"
   ]
  },
  {
   "cell_type": "code",
   "execution_count": null,
   "id": "b38dcdd0",
   "metadata": {},
   "outputs": [],
   "source": []
  }
 ],
 "metadata": {
  "kernelspec": {
   "display_name": "Python 3 (ipykernel)",
   "language": "python",
   "name": "python3"
  },
  "language_info": {
   "codemirror_mode": {
    "name": "ipython",
    "version": 3
   },
   "file_extension": ".py",
   "mimetype": "text/x-python",
   "name": "python",
   "nbconvert_exporter": "python",
   "pygments_lexer": "ipython3",
   "version": "3.10.8"
  }
 },
 "nbformat": 4,
 "nbformat_minor": 5
}
