{
 "cells": [
  {
   "cell_type": "markdown",
   "id": "c8f6c201",
   "metadata": {},
   "source": [
    "## Step 5: Data pre-processing\n",
    "\n",
    "Here we use new notebook so we need to some basic step before preprocessing......"
   ]
  },
  {
   "cell_type": "code",
   "execution_count": null,
   "id": "e9057823",
   "metadata": {},
   "outputs": [],
   "source": [
    "#Loading libraries \n",
    "import pandas as pd\n",
    "import seaborn as sns\n",
    "from sklearn.model_selection import train_test_split\n",
    "from sklearn import preprocessing\n",
    "import sklearn.linear_model \n",
    "import sklearn\n",
    "import pickle\n",
    "import numpy as np\n",
    "import matplotlib.pyplot as plt\n",
    "from sklearn.preprocessing import OneHotEncoder\n",
    "import numpy as np\n",
    "from matplotlib.pyplot import figure\n",
    "from sklearn.metrics import mean_absolute_percentage_error\n",
    "from sklearn.metrics import mean_squared_error\n",
    "from sklearn.metrics import r2_score\n",
    "from sklearn.preprocessing import scale \n",
    "from sklearn.linear_model import LinearRegression, Ridge, RidgeCV, Lasso, LassoCV\n",
    "from sklearn.model_selection import KFold, cross_val_score, train_test_split\n",
    "from sklearn.metrics import mean_squared_error\n",
    "from sklearn.model_selection import train_test_split\n",
    "from sklearn.decomposition import PCA\n",
    "import warnings\n",
    "warnings.filterwarnings('ignore')"
   ]
  },
  {
   "cell_type": "code",
   "execution_count": 56,
   "id": "722b3abf",
   "metadata": {},
   "outputs": [],
   "source": [
    "df = pd.read_csv('Telsa_Stock.csv')"
   ]
  },
  {
   "cell_type": "code",
   "execution_count": 59,
   "id": "221c9e0a",
   "metadata": {},
   "outputs": [
    {
     "name": "stdout",
     "output_type": "stream",
     "text": [
      "<class 'pandas.core.frame.DataFrame'>\n",
      "RangeIndex: 756 entries, 0 to 755\n",
      "Data columns (total 6 columns):\n",
      " #   Column  Non-Null Count  Dtype  \n",
      "---  ------  --------------  -----  \n",
      " 0   Date    756 non-null    object \n",
      " 1   Open    756 non-null    float64\n",
      " 2   High    756 non-null    float64\n",
      " 3   Low     756 non-null    float64\n",
      " 4   Close   756 non-null    float64\n",
      " 5   Volume  756 non-null    int64  \n",
      "dtypes: float64(4), int64(1), object(1)\n",
      "memory usage: 35.6+ KB\n"
     ]
    }
   ],
   "source": [
    "df.info()"
   ]
  },
  {
   "cell_type": "code",
   "execution_count": 60,
   "id": "ac0022ee",
   "metadata": {},
   "outputs": [],
   "source": [
    "df = df.drop(['Date'],axis=1)"
   ]
  },
  {
   "cell_type": "code",
   "execution_count": 61,
   "id": "e622a36a",
   "metadata": {},
   "outputs": [
    {
     "name": "stdout",
     "output_type": "stream",
     "text": [
      "Total number of numerical(int) columns are  1\n",
      " Names:  ['Volume']\n"
     ]
    }
   ],
   "source": [
    "int64_cols = ['int64']\n",
    "int64_lst = list(df.select_dtypes(include=int64_cols).columns)\n",
    "print(\"Total number of numerical(int) columns are \", len(int64_lst))\n",
    "print(\" Names: \", int64_lst)"
   ]
  },
  {
   "cell_type": "code",
   "execution_count": 62,
   "id": "4408dc9e",
   "metadata": {},
   "outputs": [
    {
     "name": "stdout",
     "output_type": "stream",
     "text": [
      "Total number of numerical(float) columns are  4\n",
      " Names:  ['Open', 'High', 'Low', 'Close']\n"
     ]
    }
   ],
   "source": [
    "float64_cols = ['float64']\n",
    "float64_lst = list(df.select_dtypes(include=float64_cols).columns)\n",
    "print(\"Total number of numerical(float) columns are \", len(float64_lst))\n",
    "print(\" Names: \", float64_lst)"
   ]
  },
  {
   "cell_type": "markdown",
   "id": "4a152c67",
   "metadata": {},
   "source": [
    "---->>Here we encode variables from the dataset. This is main step for preprocessing."
   ]
  },
  {
   "cell_type": "code",
   "execution_count": 63,
   "id": "d53d8445",
   "metadata": {},
   "outputs": [
    {
     "data": {
      "text/plain": [
       "['Volume']"
      ]
     },
     "execution_count": 63,
     "metadata": {},
     "output_type": "execute_result"
    }
   ],
   "source": [
    "encoder = OneHotEncoder()\n",
    "for value in int64_lst:\n",
    "\n",
    "    transformed = encoder.fit_transform(df[[value]])\n",
    "    df[encoder.categories_[0]] = transformed.toarray()\n",
    "int64_lst"
   ]
  },
  {
   "cell_type": "code",
   "execution_count": 64,
   "id": "0f53e54c",
   "metadata": {},
   "outputs": [],
   "source": [
    "df = df.drop(int64_lst, axis=1)"
   ]
  },
  {
   "cell_type": "code",
   "execution_count": 65,
   "id": "a6977a6a",
   "metadata": {},
   "outputs": [
    {
     "data": {
      "text/html": [
       "<div>\n",
       "<style scoped>\n",
       "    .dataframe tbody tr th:only-of-type {\n",
       "        vertical-align: middle;\n",
       "    }\n",
       "\n",
       "    .dataframe tbody tr th {\n",
       "        vertical-align: top;\n",
       "    }\n",
       "\n",
       "    .dataframe thead th {\n",
       "        text-align: right;\n",
       "    }\n",
       "</style>\n",
       "<table border=\"1\" class=\"dataframe\">\n",
       "  <thead>\n",
       "    <tr style=\"text-align: right;\">\n",
       "      <th></th>\n",
       "      <th>Open</th>\n",
       "      <th>High</th>\n",
       "      <th>Low</th>\n",
       "      <th>Close</th>\n",
       "      <th>710277</th>\n",
       "      <th>1333518</th>\n",
       "      <th>1422335</th>\n",
       "      <th>1554979</th>\n",
       "      <th>1615961</th>\n",
       "      <th>1659059</th>\n",
       "      <th>...</th>\n",
       "      <th>14863266</th>\n",
       "      <th>14915249</th>\n",
       "      <th>15354717</th>\n",
       "      <th>15649607</th>\n",
       "      <th>15962015</th>\n",
       "      <th>16464952</th>\n",
       "      <th>17046701</th>\n",
       "      <th>17261435</th>\n",
       "      <th>19324495</th>\n",
       "      <th>23742414</th>\n",
       "    </tr>\n",
       "  </thead>\n",
       "  <tbody>\n",
       "    <tr>\n",
       "      <th>0</th>\n",
       "      <td>318.94</td>\n",
       "      <td>327.12</td>\n",
       "      <td>311.22</td>\n",
       "      <td>325.89</td>\n",
       "      <td>0.0</td>\n",
       "      <td>0.0</td>\n",
       "      <td>0.0</td>\n",
       "      <td>0.0</td>\n",
       "      <td>0.0</td>\n",
       "      <td>0.0</td>\n",
       "      <td>...</td>\n",
       "      <td>0.0</td>\n",
       "      <td>0.0</td>\n",
       "      <td>0.0</td>\n",
       "      <td>0.0</td>\n",
       "      <td>0.0</td>\n",
       "      <td>0.0</td>\n",
       "      <td>0.0</td>\n",
       "      <td>0.0</td>\n",
       "      <td>0.0</td>\n",
       "      <td>0.0</td>\n",
       "    </tr>\n",
       "    <tr>\n",
       "      <th>1</th>\n",
       "      <td>323.00</td>\n",
       "      <td>324.45</td>\n",
       "      <td>316.13</td>\n",
       "      <td>319.57</td>\n",
       "      <td>0.0</td>\n",
       "      <td>0.0</td>\n",
       "      <td>0.0</td>\n",
       "      <td>0.0</td>\n",
       "      <td>0.0</td>\n",
       "      <td>0.0</td>\n",
       "      <td>...</td>\n",
       "      <td>0.0</td>\n",
       "      <td>0.0</td>\n",
       "      <td>0.0</td>\n",
       "      <td>0.0</td>\n",
       "      <td>0.0</td>\n",
       "      <td>0.0</td>\n",
       "      <td>0.0</td>\n",
       "      <td>0.0</td>\n",
       "      <td>0.0</td>\n",
       "      <td>0.0</td>\n",
       "    </tr>\n",
       "    <tr>\n",
       "      <th>2</th>\n",
       "      <td>335.50</td>\n",
       "      <td>341.49</td>\n",
       "      <td>321.04</td>\n",
       "      <td>323.47</td>\n",
       "      <td>0.0</td>\n",
       "      <td>0.0</td>\n",
       "      <td>0.0</td>\n",
       "      <td>0.0</td>\n",
       "      <td>0.0</td>\n",
       "      <td>0.0</td>\n",
       "      <td>...</td>\n",
       "      <td>0.0</td>\n",
       "      <td>0.0</td>\n",
       "      <td>0.0</td>\n",
       "      <td>0.0</td>\n",
       "      <td>0.0</td>\n",
       "      <td>0.0</td>\n",
       "      <td>0.0</td>\n",
       "      <td>0.0</td>\n",
       "      <td>0.0</td>\n",
       "      <td>0.0</td>\n",
       "    </tr>\n",
       "    <tr>\n",
       "      <th>3</th>\n",
       "      <td>336.89</td>\n",
       "      <td>339.60</td>\n",
       "      <td>332.51</td>\n",
       "      <td>335.07</td>\n",
       "      <td>0.0</td>\n",
       "      <td>0.0</td>\n",
       "      <td>0.0</td>\n",
       "      <td>0.0</td>\n",
       "      <td>0.0</td>\n",
       "      <td>0.0</td>\n",
       "      <td>...</td>\n",
       "      <td>0.0</td>\n",
       "      <td>0.0</td>\n",
       "      <td>0.0</td>\n",
       "      <td>0.0</td>\n",
       "      <td>0.0</td>\n",
       "      <td>0.0</td>\n",
       "      <td>0.0</td>\n",
       "      <td>0.0</td>\n",
       "      <td>0.0</td>\n",
       "      <td>0.0</td>\n",
       "    </tr>\n",
       "    <tr>\n",
       "      <th>4</th>\n",
       "      <td>346.00</td>\n",
       "      <td>347.50</td>\n",
       "      <td>326.29</td>\n",
       "      <td>334.46</td>\n",
       "      <td>0.0</td>\n",
       "      <td>0.0</td>\n",
       "      <td>0.0</td>\n",
       "      <td>0.0</td>\n",
       "      <td>0.0</td>\n",
       "      <td>0.0</td>\n",
       "      <td>...</td>\n",
       "      <td>0.0</td>\n",
       "      <td>0.0</td>\n",
       "      <td>0.0</td>\n",
       "      <td>0.0</td>\n",
       "      <td>0.0</td>\n",
       "      <td>0.0</td>\n",
       "      <td>0.0</td>\n",
       "      <td>0.0</td>\n",
       "      <td>0.0</td>\n",
       "      <td>0.0</td>\n",
       "    </tr>\n",
       "  </tbody>\n",
       "</table>\n",
       "<p>5 rows × 760 columns</p>\n",
       "</div>"
      ],
      "text/plain": [
       "     Open    High     Low   Close  710277  1333518  1422335  1554979  1615961  \\\n",
       "0  318.94  327.12  311.22  325.89     0.0      0.0      0.0      0.0      0.0   \n",
       "1  323.00  324.45  316.13  319.57     0.0      0.0      0.0      0.0      0.0   \n",
       "2  335.50  341.49  321.04  323.47     0.0      0.0      0.0      0.0      0.0   \n",
       "3  336.89  339.60  332.51  335.07     0.0      0.0      0.0      0.0      0.0   \n",
       "4  346.00  347.50  326.29  334.46     0.0      0.0      0.0      0.0      0.0   \n",
       "\n",
       "   1659059  ...  14863266  14915249  15354717  15649607  15962015  16464952  \\\n",
       "0      0.0  ...       0.0       0.0       0.0       0.0       0.0       0.0   \n",
       "1      0.0  ...       0.0       0.0       0.0       0.0       0.0       0.0   \n",
       "2      0.0  ...       0.0       0.0       0.0       0.0       0.0       0.0   \n",
       "3      0.0  ...       0.0       0.0       0.0       0.0       0.0       0.0   \n",
       "4      0.0  ...       0.0       0.0       0.0       0.0       0.0       0.0   \n",
       "\n",
       "   17046701  17261435  19324495  23742414  \n",
       "0       0.0       0.0       0.0       0.0  \n",
       "1       0.0       0.0       0.0       0.0  \n",
       "2       0.0       0.0       0.0       0.0  \n",
       "3       0.0       0.0       0.0       0.0  \n",
       "4       0.0       0.0       0.0       0.0  \n",
       "\n",
       "[5 rows x 760 columns]"
      ]
     },
     "execution_count": 65,
     "metadata": {},
     "output_type": "execute_result"
    }
   ],
   "source": [
    "df.head()"
   ]
  },
  {
   "cell_type": "code",
   "execution_count": 66,
   "id": "0e72ce8a",
   "metadata": {},
   "outputs": [],
   "source": [
    "# save preprocess dataframe to csv for model training . Using this dataset we train the model.\n",
    "df.to_csv('Tesla_Stocke3.csv')"
   ]
  },
  {
   "cell_type": "code",
   "execution_count": 67,
   "id": "594bc19a",
   "metadata": {},
   "outputs": [],
   "source": [
    "# Read preprocess csv file\n",
    "df = pd.read_csv('Tesla_Stocke3.csv')"
   ]
  },
  {
   "cell_type": "code",
   "execution_count": 68,
   "id": "4f29cfb4",
   "metadata": {},
   "outputs": [],
   "source": [
    "df = df.drop('Unnamed: 0',axis=1)"
   ]
  },
  {
   "cell_type": "code",
   "execution_count": 69,
   "id": "785a3fe5",
   "metadata": {},
   "outputs": [
    {
     "data": {
      "text/html": [
       "<div>\n",
       "<style scoped>\n",
       "    .dataframe tbody tr th:only-of-type {\n",
       "        vertical-align: middle;\n",
       "    }\n",
       "\n",
       "    .dataframe tbody tr th {\n",
       "        vertical-align: top;\n",
       "    }\n",
       "\n",
       "    .dataframe thead th {\n",
       "        text-align: right;\n",
       "    }\n",
       "</style>\n",
       "<table border=\"1\" class=\"dataframe\">\n",
       "  <thead>\n",
       "    <tr style=\"text-align: right;\">\n",
       "      <th></th>\n",
       "      <th>Open</th>\n",
       "      <th>High</th>\n",
       "      <th>Low</th>\n",
       "      <th>Close</th>\n",
       "      <th>710277</th>\n",
       "      <th>1333518</th>\n",
       "      <th>1422335</th>\n",
       "      <th>1554979</th>\n",
       "      <th>1615961</th>\n",
       "      <th>1659059</th>\n",
       "      <th>...</th>\n",
       "      <th>14863266</th>\n",
       "      <th>14915249</th>\n",
       "      <th>15354717</th>\n",
       "      <th>15649607</th>\n",
       "      <th>15962015</th>\n",
       "      <th>16464952</th>\n",
       "      <th>17046701</th>\n",
       "      <th>17261435</th>\n",
       "      <th>19324495</th>\n",
       "      <th>23742414</th>\n",
       "    </tr>\n",
       "  </thead>\n",
       "  <tbody>\n",
       "    <tr>\n",
       "      <th>0</th>\n",
       "      <td>318.94</td>\n",
       "      <td>327.12</td>\n",
       "      <td>311.22</td>\n",
       "      <td>325.89</td>\n",
       "      <td>0.0</td>\n",
       "      <td>0.0</td>\n",
       "      <td>0.0</td>\n",
       "      <td>0.0</td>\n",
       "      <td>0.0</td>\n",
       "      <td>0.0</td>\n",
       "      <td>...</td>\n",
       "      <td>0.0</td>\n",
       "      <td>0.0</td>\n",
       "      <td>0.0</td>\n",
       "      <td>0.0</td>\n",
       "      <td>0.0</td>\n",
       "      <td>0.0</td>\n",
       "      <td>0.0</td>\n",
       "      <td>0.0</td>\n",
       "      <td>0.0</td>\n",
       "      <td>0.0</td>\n",
       "    </tr>\n",
       "    <tr>\n",
       "      <th>1</th>\n",
       "      <td>323.00</td>\n",
       "      <td>324.45</td>\n",
       "      <td>316.13</td>\n",
       "      <td>319.57</td>\n",
       "      <td>0.0</td>\n",
       "      <td>0.0</td>\n",
       "      <td>0.0</td>\n",
       "      <td>0.0</td>\n",
       "      <td>0.0</td>\n",
       "      <td>0.0</td>\n",
       "      <td>...</td>\n",
       "      <td>0.0</td>\n",
       "      <td>0.0</td>\n",
       "      <td>0.0</td>\n",
       "      <td>0.0</td>\n",
       "      <td>0.0</td>\n",
       "      <td>0.0</td>\n",
       "      <td>0.0</td>\n",
       "      <td>0.0</td>\n",
       "      <td>0.0</td>\n",
       "      <td>0.0</td>\n",
       "    </tr>\n",
       "    <tr>\n",
       "      <th>2</th>\n",
       "      <td>335.50</td>\n",
       "      <td>341.49</td>\n",
       "      <td>321.04</td>\n",
       "      <td>323.47</td>\n",
       "      <td>0.0</td>\n",
       "      <td>0.0</td>\n",
       "      <td>0.0</td>\n",
       "      <td>0.0</td>\n",
       "      <td>0.0</td>\n",
       "      <td>0.0</td>\n",
       "      <td>...</td>\n",
       "      <td>0.0</td>\n",
       "      <td>0.0</td>\n",
       "      <td>0.0</td>\n",
       "      <td>0.0</td>\n",
       "      <td>0.0</td>\n",
       "      <td>0.0</td>\n",
       "      <td>0.0</td>\n",
       "      <td>0.0</td>\n",
       "      <td>0.0</td>\n",
       "      <td>0.0</td>\n",
       "    </tr>\n",
       "    <tr>\n",
       "      <th>3</th>\n",
       "      <td>336.89</td>\n",
       "      <td>339.60</td>\n",
       "      <td>332.51</td>\n",
       "      <td>335.07</td>\n",
       "      <td>0.0</td>\n",
       "      <td>0.0</td>\n",
       "      <td>0.0</td>\n",
       "      <td>0.0</td>\n",
       "      <td>0.0</td>\n",
       "      <td>0.0</td>\n",
       "      <td>...</td>\n",
       "      <td>0.0</td>\n",
       "      <td>0.0</td>\n",
       "      <td>0.0</td>\n",
       "      <td>0.0</td>\n",
       "      <td>0.0</td>\n",
       "      <td>0.0</td>\n",
       "      <td>0.0</td>\n",
       "      <td>0.0</td>\n",
       "      <td>0.0</td>\n",
       "      <td>0.0</td>\n",
       "    </tr>\n",
       "    <tr>\n",
       "      <th>4</th>\n",
       "      <td>346.00</td>\n",
       "      <td>347.50</td>\n",
       "      <td>326.29</td>\n",
       "      <td>334.46</td>\n",
       "      <td>0.0</td>\n",
       "      <td>0.0</td>\n",
       "      <td>0.0</td>\n",
       "      <td>0.0</td>\n",
       "      <td>0.0</td>\n",
       "      <td>0.0</td>\n",
       "      <td>...</td>\n",
       "      <td>0.0</td>\n",
       "      <td>0.0</td>\n",
       "      <td>0.0</td>\n",
       "      <td>0.0</td>\n",
       "      <td>0.0</td>\n",
       "      <td>0.0</td>\n",
       "      <td>0.0</td>\n",
       "      <td>0.0</td>\n",
       "      <td>0.0</td>\n",
       "      <td>0.0</td>\n",
       "    </tr>\n",
       "  </tbody>\n",
       "</table>\n",
       "<p>5 rows × 760 columns</p>\n",
       "</div>"
      ],
      "text/plain": [
       "     Open    High     Low   Close  710277  1333518  1422335  1554979  1615961  \\\n",
       "0  318.94  327.12  311.22  325.89     0.0      0.0      0.0      0.0      0.0   \n",
       "1  323.00  324.45  316.13  319.57     0.0      0.0      0.0      0.0      0.0   \n",
       "2  335.50  341.49  321.04  323.47     0.0      0.0      0.0      0.0      0.0   \n",
       "3  336.89  339.60  332.51  335.07     0.0      0.0      0.0      0.0      0.0   \n",
       "4  346.00  347.50  326.29  334.46     0.0      0.0      0.0      0.0      0.0   \n",
       "\n",
       "   1659059  ...  14863266  14915249  15354717  15649607  15962015  16464952  \\\n",
       "0      0.0  ...       0.0       0.0       0.0       0.0       0.0       0.0   \n",
       "1      0.0  ...       0.0       0.0       0.0       0.0       0.0       0.0   \n",
       "2      0.0  ...       0.0       0.0       0.0       0.0       0.0       0.0   \n",
       "3      0.0  ...       0.0       0.0       0.0       0.0       0.0       0.0   \n",
       "4      0.0  ...       0.0       0.0       0.0       0.0       0.0       0.0   \n",
       "\n",
       "   17046701  17261435  19324495  23742414  \n",
       "0       0.0       0.0       0.0       0.0  \n",
       "1       0.0       0.0       0.0       0.0  \n",
       "2       0.0       0.0       0.0       0.0  \n",
       "3       0.0       0.0       0.0       0.0  \n",
       "4       0.0       0.0       0.0       0.0  \n",
       "\n",
       "[5 rows x 760 columns]"
      ]
     },
     "execution_count": 69,
     "metadata": {},
     "output_type": "execute_result"
    }
   ],
   "source": [
    "# View first 5 rows\n",
    "df.head()"
   ]
  },
  {
   "cell_type": "markdown",
   "id": "de0f4b76",
   "metadata": {},
   "source": [
    "## Step 6: Data Preparation\n",
    "----->>Now we spearate the target variable and feature columns in two different dataframe and will check the shape of the dataset for validation purpose.\n",
    "Split dataset into train and test dataset\n",
    "Scaling on train dataset"
   ]
  },
  {
   "cell_type": "code",
   "execution_count": 70,
   "id": "c41c0658",
   "metadata": {},
   "outputs": [],
   "source": [
    "## Here we choose Close as a target variable. And Spearate target and feature column in X and y variable.\n",
    "target = 'Close'\n",
    "X = df.drop(target,axis=1)\n",
    "y = df[target]"
   ]
  },
  {
   "cell_type": "code",
   "execution_count": 71,
   "id": "517d49d9",
   "metadata": {},
   "outputs": [
    {
     "data": {
      "text/plain": [
       "((756, 759), (756,))"
      ]
     },
     "execution_count": 71,
     "metadata": {},
     "output_type": "execute_result"
    }
   ],
   "source": [
    "# Check the shape of X and y variable\n",
    "X.shape, y.shape"
   ]
  },
  {
   "cell_type": "code",
   "execution_count": 72,
   "id": "3cd50134",
   "metadata": {},
   "outputs": [],
   "source": [
    "# Reshape the y variable \n",
    "y = y.values.reshape(-1,1)"
   ]
  },
  {
   "cell_type": "code",
   "execution_count": 73,
   "id": "938e4879",
   "metadata": {},
   "outputs": [
    {
     "data": {
      "text/plain": [
       "((756, 759), (756, 1))"
      ]
     },
     "execution_count": 73,
     "metadata": {},
     "output_type": "execute_result"
    }
   ],
   "source": [
    "# Again check the shape of X and y variable\n",
    "X.shape, y.shape"
   ]
  },
  {
   "cell_type": "markdown",
   "id": "d47ac91e",
   "metadata": {},
   "source": [
    "------>>>>Split dataset into train and test dataset"
   ]
  },
  {
   "cell_type": "code",
   "execution_count": 74,
   "id": "2b2df7ee",
   "metadata": {},
   "outputs": [],
   "source": [
    "# Split the X and y into X_train, X_test, y_train, y_test variables with 80-20% split.\n",
    "X_train, X_test, y_train, y_test = train_test_split(X, y, test_size=0.2, random_state=42)"
   ]
  },
  {
   "cell_type": "code",
   "execution_count": 75,
   "id": "db29c083",
   "metadata": {},
   "outputs": [
    {
     "data": {
      "text/plain": [
       "((604, 759), (152, 759), (604, 1), (152, 1))"
      ]
     },
     "execution_count": 75,
     "metadata": {},
     "output_type": "execute_result"
    }
   ],
   "source": [
    "# Check shape of the splitted variables\n",
    "X_train.shape, X_test.shape, y_train.shape, y_test.shape"
   ]
  },
  {
   "cell_type": "markdown",
   "id": "b9f6f1b5",
   "metadata": {},
   "source": [
    "## Step 7: Model Training\n",
    "------>>>>Here we train our dataset on different linear regression algorithms."
   ]
  },
  {
   "cell_type": "code",
   "execution_count": 76,
   "id": "0c33758d",
   "metadata": {},
   "outputs": [],
   "source": [
    "# Define kfold with 10 split\n",
    "cv = KFold(n_splits=10, shuffle=True, random_state=42)"
   ]
  },
  {
   "cell_type": "markdown",
   "id": "27d2b35e",
   "metadata": {},
   "source": [
    "#### ----->>>>>Linear Regression (no regularization)"
   ]
  },
  {
   "cell_type": "code",
   "execution_count": 77,
   "id": "9b90b0ad",
   "metadata": {},
   "outputs": [],
   "source": [
    "# define linear regression model object\n",
    "lin_reg = LinearRegression()"
   ]
  },
  {
   "cell_type": "code",
   "execution_count": 78,
   "id": "2717113d",
   "metadata": {},
   "outputs": [],
   "source": [
    "# train or fit train dataset on linear regression model\n",
    "lin_reg = lin_reg.fit(X_train, y_train)"
   ]
  },
  {
   "cell_type": "code",
   "execution_count": 79,
   "id": "0f321d4c",
   "metadata": {},
   "outputs": [
    {
     "data": {
      "text/plain": [
       "1.0"
      ]
     },
     "execution_count": 79,
     "metadata": {},
     "output_type": "execute_result"
    }
   ],
   "source": [
    "# Get R2 score\n",
    "lin_reg.score(X_train, y_train)"
   ]
  },
  {
   "cell_type": "code",
   "execution_count": 80,
   "id": "26cf8bfe",
   "metadata": {},
   "outputs": [
    {
     "data": {
      "text/plain": [
       "array([2.02320111, 1.65188896, 2.13665743, 1.83241296, 2.6994153 ,\n",
       "       1.72031993, 2.03459761, 1.89363272, 1.84449808, 2.04344708])"
      ]
     },
     "execution_count": 80,
     "metadata": {},
     "output_type": "execute_result"
    }
   ],
   "source": [
    "# get kfold values\n",
    "lr_scores = -1 * cross_val_score(lin_reg, \n",
    "                                 X_train, \n",
    "                                 y_train, \n",
    "                                 cv=cv, \n",
    "                                 scoring='neg_root_mean_squared_error')\n",
    "lr_scores"
   ]
  },
  {
   "cell_type": "code",
   "execution_count": null,
   "id": "cfe8e822",
   "metadata": {},
   "outputs": [],
   "source": [
    "#mean of the train kfold scores\n",
    "lr_score_train = np.mean(lr_scores)\n",
    "lr_score_train"
   ]
  },
  {
   "cell_type": "markdown",
   "id": "cf9cdddf",
   "metadata": {},
   "source": [
    "### Predict"
   ]
  },
  {
   "cell_type": "code",
   "execution_count": 82,
   "id": "8823f423",
   "metadata": {},
   "outputs": [],
   "source": [
    "# predict the values on X_test_scaled dataset \n",
    "y_predicted = lin_reg.predict(X_test)"
   ]
  },
  {
   "cell_type": "code",
   "execution_count": 83,
   "id": "2dfd69b9",
   "metadata": {},
   "outputs": [
    {
     "data": {
      "text/plain": [
       "1.9442535743691862"
      ]
     },
     "execution_count": 83,
     "metadata": {},
     "output_type": "execute_result"
    }
   ],
   "source": [
    "# RMSE between y_test and y_predicted values\n",
    "lr_score_test = mean_squared_error(y_test, y_predicted, squared=False) # RMSE instead of MSE\n",
    "lr_score_test"
   ]
  },
  {
   "cell_type": "code",
   "execution_count": 84,
   "id": "726cb495",
   "metadata": {},
   "outputs": [
    {
     "data": {
      "image/png": "[encoded data removed]",
      "text/plain": [
       "<Figure size 640x480 with 1 Axes>"
      ]
     },
     "metadata": {},
     "output_type": "display_data"
    }
   ],
   "source": [
    "# scatter plot between y_test and y_predicted values\n",
    "plt.scatter(y_test, y_predicted)\n",
    "plt.show()"
   ]
  },
  {
   "cell_type": "code",
   "execution_count": 85,
   "id": "d82bc416",
   "metadata": {},
   "outputs": [
    {
     "data": {
      "image/png": "[encoded data removed]",
      "text/plain": [
       "<Figure size 640x480 with 1 Axes>"
      ]
     },
     "metadata": {},
     "output_type": "display_data"
    }
   ],
   "source": [
    "# histogram between y_test and y_predicted values\n",
    "plt.hist(y_test - y_predicted)\n",
    "plt.show()"
   ]
  },
  {
   "cell_type": "code",
   "execution_count": 86,
   "id": "3bbae091",
   "metadata": {},
   "outputs": [
    {
     "data": {
      "image/png": "[encoded data removed]",
      "text/plain": [
       "<Figure size 640x480 with 1 Axes>"
      ]
     },
     "metadata": {},
     "output_type": "display_data"
    }
   ],
   "source": [
    "# fit graph between y_test and y_predicted values\n",
    "plt.plot(X_test, y_test,'.')\n",
    "plt.plot(X_test, y_predicted,'-')\n",
    "plt.show()"
   ]
  },
  {
   "cell_type": "markdown",
   "id": "82befe40",
   "metadata": {},
   "source": [
    "#### ----->>>>> Lasso Regression (L1 regularization)"
   ]
  },
  {
   "cell_type": "code",
   "execution_count": 87,
   "id": "8483e0ed",
   "metadata": {},
   "outputs": [],
   "source": [
    "# define lasso regression model object\n",
    "lasso_reg = LassoCV()"
   ]
  },
  {
   "cell_type": "code",
   "execution_count": 88,
   "id": "a9084512",
   "metadata": {},
   "outputs": [],
   "source": [
    "# train or fit train dataset on lasso regression model\n",
    "lasso_reg = lasso_reg.fit(X_train, y_train)"
   ]
  },
  {
   "cell_type": "code",
   "execution_count": 89,
   "id": "673728fb",
   "metadata": {},
   "outputs": [
    {
     "data": {
      "text/plain": [
       "0.9969121035577688"
      ]
     },
     "execution_count": 89,
     "metadata": {},
     "output_type": "execute_result"
    }
   ],
   "source": [
    "# Get R2 score\n",
    "lasso_reg.score(X_train, y_train)"
   ]
  },
  {
   "cell_type": "code",
   "execution_count": 94,
   "id": "77500b7f",
   "metadata": {},
   "outputs": [
    {
     "data": {
      "text/plain": [
       "array([2.58763728, 2.05654164, 2.46524209, 2.01176367, 2.76725981,\n",
       "       2.15040192, 2.36060714, 2.40474251, 2.47607389, 2.02202859])"
      ]
     },
     "execution_count": 94,
     "metadata": {},
     "output_type": "execute_result"
    }
   ],
   "source": [
    "# get kfold values\n",
    "lasso_scores = -1 * cross_val_score(lasso_reg, \n",
    "                                    X_train, \n",
    "                                    y_train, \n",
    "                                    cv=cv, \n",
    "                                    scoring='neg_root_mean_squared_error')\n",
    "lasso_scores"
   ]
  },
  {
   "cell_type": "code",
   "execution_count": 91,
   "id": "c08c501d",
   "metadata": {},
   "outputs": [
    {
     "data": {
      "text/plain": [
       "2.3302298536442048"
      ]
     },
     "execution_count": 91,
     "metadata": {},
     "output_type": "execute_result"
    }
   ],
   "source": [
    "# mean of the train kfold scores\n",
    "lasso_score_train = np.mean(lasso_scores)\n",
    "lasso_score_train"
   ]
  },
  {
   "cell_type": "markdown",
   "id": "a31d5140",
   "metadata": {},
   "source": [
    "### Predict"
   ]
  },
  {
   "cell_type": "code",
   "execution_count": 95,
   "id": "ffb769bf",
   "metadata": {},
   "outputs": [],
   "source": [
    "# predict the values on X_test_scaled dataset \n",
    "y_predicted = lasso_reg.predict(X_test)"
   ]
  },
  {
   "cell_type": "code",
   "execution_count": 96,
   "id": "7db5c10e",
   "metadata": {},
   "outputs": [
    {
     "data": {
      "text/plain": [
       "2.2051519869431426"
      ]
     },
     "execution_count": 96,
     "metadata": {},
     "output_type": "execute_result"
    }
   ],
   "source": [
    "# RMSE between y_test and y_predicted values\n",
    "lasso_score_test = mean_squared_error(y_test, y_predicted, squared=False)\n",
    "lasso_score_test"
   ]
  },
  {
   "cell_type": "code",
   "execution_count": 97,
   "id": "92d243f3",
   "metadata": {},
   "outputs": [
    {
     "data": {
      "image/png": "[encoded data removed]",
      "text/plain": [
       "<Figure size 640x480 with 1 Axes>"
      ]
     },
     "metadata": {},
     "output_type": "display_data"
    }
   ],
   "source": [
    "# scatter plot between y_test and y_predicted values\n",
    "plt.scatter(y_test, y_predicted)\n",
    "plt.show()"
   ]
  },
  {
   "cell_type": "code",
   "execution_count": 98,
   "id": "b2b35573",
   "metadata": {},
   "outputs": [
    {
     "data": {
      "image/png": "[encoded data removed]",
      "text/plain": [
       "<Figure size 640x480 with 1 Axes>"
      ]
     },
     "metadata": {},
     "output_type": "display_data"
    }
   ],
   "source": [
    "# histogram between y_test and y_predicted values\n",
    "plt.hist(y_test - y_predicted)\n",
    "plt.show()"
   ]
  },
  {
   "cell_type": "code",
   "execution_count": null,
   "id": "ad8fedb7",
   "metadata": {},
   "outputs": [],
   "source": []
  }
 ],
 "metadata": {
  "kernelspec": {
   "display_name": "Python 3 (ipykernel)",
   "language": "python",
   "name": "python3"
  },
  "language_info": {
   "codemirror_mode": {
    "name": "ipython",
    "version": 3
   },
   "file_extension": ".py",
   "mimetype": "text/x-python",
   "name": "python",
   "nbconvert_exporter": "python",
   "pygments_lexer": "ipython3",
   "version": "3.10.8"
  }
 },
 "nbformat": 4,
 "nbformat_minor": 5
}
